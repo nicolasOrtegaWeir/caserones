{
 "cells": [
  {
   "cell_type": "code",
   "execution_count": 4,
   "id": "caafeca2-d408-4730-91c2-a7d100912482",
   "metadata": {},
   "outputs": [],
   "source": [
    "from pyModbusTCP.server import ModbusServer, DataBank\n",
    "from time import sleep"
   ]
  },
  {
   "cell_type": "code",
   "execution_count": 5,
   "id": "c0451e6f-8d55-4722-9b50-d66fb0baaeb3",
   "metadata": {},
   "outputs": [
    {
     "name": "stdout",
     "output_type": "stream",
     "text": [
      "Start server\n",
      "Server is online\n",
      "Shutdown server\n",
      "Server is offline\n"
     ]
    }
   ],
   "source": [
    "server = ModbusServer(\"192.168.168.105\", 1234, no_block=True)\n",
    "try:\n",
    "    print(\"Start server\")\n",
    "    server.start()\n",
    "    print(\"Server is online\")\n",
    "    state = [0]\n",
    "    while True:\n",
    "        continue\n",
    "except:\n",
    "    print(\"Shutdown server\")\n",
    "    server.stop()\n",
    "    print(\"Server is offline\")"
   ]
  }
 ],
 "metadata": {
  "kernelspec": {
   "display_name": "Python 3 (ipykernel)",
   "language": "python",
   "name": "python3"
  },
  "language_info": {
   "codemirror_mode": {
    "name": "ipython",
    "version": 3
   },
   "file_extension": ".py",
   "mimetype": "text/x-python",
   "name": "python",
   "nbconvert_exporter": "python",
   "pygments_lexer": "ipython3",
   "version": "3.8.10"
  }
 },
 "nbformat": 4,
 "nbformat_minor": 5
}
